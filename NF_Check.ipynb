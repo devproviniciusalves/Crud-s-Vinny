{
  "cells": [
    {
      "cell_type": "markdown",
      "metadata": {
        "id": "view-in-github",
        "colab_type": "text"
      },
      "source": [
        "<a href=\"https://colab.research.google.com/github/devproviniciusalves/Crud-s-Vinny/blob/main/NF_Check.ipynb\" target=\"_parent\"><img src=\"https://colab.research.google.com/assets/colab-badge.svg\" alt=\"Open In Colab\"/></a>"
      ]
    },
    {
      "cell_type": "code",
      "source": [
        "import xml.etree.ElementTree as ET\n",
        "import zipfile, os, io\n",
        "from google.colab import files\n",
        "import ipywidgets as widgets\n",
        "from IPython.display import display\n",
        "\n",
        "def extrair_numeros_nf(sequencia):\n",
        "    if len(sequencia) % 44 != 0 or not sequencia.isdigit():\n",
        "        return 'Sequência inválida'\n",
        "\n",
        "    nfs = []\n",
        "    for i in range(0, len(sequencia), 44):\n",
        "        chave = sequencia[i:i+44]\n",
        "        numero_nf = chave[27:34]\n",
        "        nfs.append(numero_nf)\n",
        "\n",
        "    return nfs\n",
        "\n",
        "nfs_localizadas = []\n",
        "\n",
        "chaves_nfs = input('Digite as chaves: ')\n",
        "print('-' * 10)\n",
        "print('Envie o arquivo ZIP com os XMLs:')\n",
        "numeros_nf = extrair_numeros_nf(chaves_nfs)\n",
        "if numeros_nf == 'Sequência inválida':\n",
        "  print('Sequência inválida')\n",
        "else:\n",
        "  # print(\"Notas Bipadas\")\n",
        "  for numeros_nf in numeros_nf:\n",
        "    # print(numeros_nf)\n",
        "    nfs_localizadas.append(numeros_nf)\n",
        "\n",
        "uploaded = files.upload()\n",
        "print('-' * 10)\n",
        "\n",
        "filename = list(uploaded.keys())[0]\n",
        "\n",
        "ns = {'ns': 'http://www.portalfiscal.inf.br/nfe'}\n",
        "\n",
        "with zipfile.ZipFile(io.BytesIO(uploaded[filename]), 'r') as zip_ref:\n",
        "    numeros_nf = []\n",
        "\n",
        "    for file_name in zip_ref.namelist():\n",
        "        if file_name.endswith('.xml'):\n",
        "            with zip_ref.open(file_name) as xml_file:\n",
        "                try:\n",
        "                    tree = ET.parse(xml_file)\n",
        "                    root = tree.getroot()\n",
        "                    # Buscar a tag <nNF> com namespace\n",
        "                    nfe_num = root.find('.//ns:nNF', ns)\n",
        "                    if nfe_num is not None:\n",
        "                        numeros_nf.append(nfe_num.text)\n",
        "                except Exception as e:\n",
        "                    print(f\"Erro ao ler {file_name}: {e}\")\n",
        "\n",
        "comparativo = list(set(numeros_nf) - set(nfs_localizadas))\n",
        "conteudo_html = \"<b>Notas Faltando</b><br>\"\n",
        "for nf in comparativo:\n",
        "    conteudo_html += f\"{nf}<br>\"\n",
        "\n",
        "caixa_resultado = widgets.HTML(\n",
        "    value=f\"\"\"\n",
        "    <div style='\n",
        "        display: inline-block;\n",
        "        text-align: center;\n",
        "        padding: 10px;\n",
        "        border: 1,5px solid #34516B;\n",
        "        border-radius: 8px;\n",
        "        background-color: #0D2A4A;\n",
        "        color: white;\n",
        "        min-width: 120px;\n",
        "        max-width: 300px;\n",
        "        min-height: 50px;\n",
        "        max-height: 200px;\n",
        "        overflow-y: auto;\n",
        "    '>\n",
        "        {conteudo_html}\n",
        "    </div>\n",
        "    \"\"\"\n",
        ")\n",
        "\n",
        "display(caixa_resultado)\n",
        "\n",
        "# !rm \"{filename}\"\n",
        "!rm -r \"{filename}\""
      ],
      "metadata": {
        "id": "kEdJMh7v5MuL"
      },
      "execution_count": null,
      "outputs": []
    }
  ],
  "metadata": {
    "colab": {
      "provenance": [],
      "authorship_tag": "ABX9TyMqDc0hF/gfWPZA81GZ1hBR",
      "include_colab_link": true
    },
    "kernelspec": {
      "display_name": "Python 3",
      "name": "python3"
    },
    "language_info": {
      "name": "python"
    }
  },
  "nbformat": 4,
  "nbformat_minor": 0
}